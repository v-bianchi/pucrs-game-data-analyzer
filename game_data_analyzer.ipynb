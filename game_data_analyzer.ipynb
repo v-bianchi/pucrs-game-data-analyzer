{
 "cells": [
  {
   "cell_type": "code",
   "execution_count": 39,
   "metadata": {},
   "outputs": [],
   "source": [
    "import csv\n",
    "\n",
    "class SteamGameData:\n",
    "  def __init__(self, filename):\n",
    "    self._filename = filename\n",
    "\n",
    "    with open(self._filename, 'r') as file:\n",
    "      reader =  csv.reader(file)\n",
    "      count = 0\n",
    "      for row in reader:\n",
    "        count += 1\n",
    "      self.games_total = count\n",
    "\n",
    "  def _games_percent(self, games_quantity):\n",
    "    \"\"\"Dada uma quantidade de jogos, calcula o quanto essa quantidade representa do total, em porcentagem.\n",
    "\n",
    "    Args:\n",
    "        games_quantity (int): quantidade de jogos\n",
    "\n",
    "    Returns:\n",
    "        float: porcentagem da quantidade total\n",
    "    \"\"\"\n",
    "    if games_quantity < 0:\n",
    "      raise ValueError('Quantidade de jogos deve ser positiva')\n",
    "    return (games_quantity / self.games_total) * 100\n",
    "  \n",
    "  def first_records(self, num=5):\n",
    "    with open(self._filename, 'r') as file:\n",
    "      reader =  csv.DictReader(file)\n",
    "      count = 0\n",
    "      for row in reader:\n",
    "        if count > num:\n",
    "          break\n",
    "        print(row)\n",
    "        count += 1\n",
    "\n",
    "  def free_paid_games_percent(self):\n",
    "    \"\"\"Calcula quantos % dos jogos do dataset são gratuitos e quantos % são pagos\n",
    "\n",
    "    Returns:\n",
    "        (float, float): Tupla contendo a porcentagem de jogos gratuitos e a porcentagem de jogos pagos\n",
    "    \"\"\"\n",
    "    with open(self._filename, 'r') as file:\n",
    "      reader =  csv.DictReader(file)\n",
    "      free_games_count = 0\n",
    "      for row in reader:\n",
    "        if row['Price'] == '0.0':\n",
    "          free_games_count += 1\n",
    "      free_games_percent = self._games_percent(free_games_count)\n",
    "      return (free_games_percent, (100.0 - free_games_percent))\n",
    "\n",
    "  def most_releases_year(self):\n",
    "    with open(self._filename, 'r') as file:\n",
    "      reader =  csv.DictReader(file)\n",
    "      yearly_releases_dict = {}\n",
    "      for row in reader:\n",
    "        year = row['Release date'][-4:]\n",
    "        if year in yearly_releases_dict:\n",
    "          yearly_releases_dict[year] += 1\n",
    "        else:\n",
    "          yearly_releases_dict[year] = 1\n",
    "      max_yearly_releases = max(yearly_releases_dict.values())\n",
    "      top_years = [k for k, v in yearly_releases_dict.items() if v == max_yearly_releases]\n",
    "      if len(top_years) == 1:\n",
    "        return top_years[0]\n",
    "      else:\n",
    "        return top_years\n"
   ]
  },
  {
   "cell_type": "code",
   "execution_count": 40,
   "metadata": {},
   "outputs": [
    {
     "name": "stdout",
     "output_type": "stream",
     "text": [
      "(9.523809523809524, 90.47619047619048)\n",
      "2019\n"
     ]
    }
   ],
   "source": [
    "data = SteamGameData('steam_games_sample.csv')\n",
    "print(data.free_paid_games_percent())\n",
    "print(data.most_releases_year())"
   ]
  }
 ],
 "metadata": {
  "kernelspec": {
   "display_name": "Python 3 (ipykernel)",
   "language": "python",
   "name": "python3"
  },
  "language_info": {
   "codemirror_mode": {
    "name": "ipython",
    "version": 3
   },
   "file_extension": ".py",
   "mimetype": "text/x-python",
   "name": "python",
   "nbconvert_exporter": "python",
   "pygments_lexer": "ipython3",
   "version": "3.12.4"
  }
 },
 "nbformat": 4,
 "nbformat_minor": 2
}
